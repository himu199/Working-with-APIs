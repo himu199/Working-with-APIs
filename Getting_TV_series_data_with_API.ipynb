{
 "cells": [
  {
   "cell_type": "markdown",
   "metadata": {},
   "source": [
    "# Getting Rick & Morty characters data"
   ]
  },
  {
   "cell_type": "code",
   "execution_count": 22,
   "metadata": {},
   "outputs": [],
   "source": [
    "import requests\n",
    "import pandas as pd\n",
    "base_url = 'https://rickandmortyapi.com/api/'\n",
    "endpoint = 'character'\n"
   ]
  },
  {
   "cell_type": "code",
   "execution_count": 14,
   "metadata": {},
   "outputs": [],
   "source": [
    "#Getting the json data\n",
    "def main_function(base_url, endpoint, x):\n",
    "    r = requests.get(base_url+endpoint+f'?page={x}')\n",
    "    return r.json()\n"
   ]
  },
  {
   "cell_type": "code",
   "execution_count": 19,
   "metadata": {},
   "outputs": [],
   "source": [
    "# Obtaining more info about the pages \n",
    "def get_pages(response):\n",
    "    return response['info']['pages']\n"
   ]
  },
  {
   "cell_type": "code",
   "execution_count": 24,
   "metadata": {},
   "outputs": [],
   "source": [
    "# Extracting data from the json\n",
    "def parse_json(response):\n",
    "    character_list=[]\n",
    "    for item in response['results']:\n",
    "        character_info={\n",
    "            'id': item['id'],\n",
    "            'name' : item['name'],\n",
    "            'gender': item['gender'],\n",
    "            'episodes in':len(item['episode']),\n",
    "        }\n",
    "        character_list.append(character_info)\n",
    "    return character_list"
   ]
  },
  {
   "cell_type": "code",
   "execution_count": 25,
   "metadata": {},
   "outputs": [
    {
     "name": "stdout",
     "output_type": "stream",
     "text": [
      "1\n",
      "2\n",
      "3\n",
      "4\n",
      "5\n",
      "6\n",
      "7\n",
      "8\n",
      "9\n",
      "10\n",
      "11\n",
      "12\n",
      "13\n",
      "14\n",
      "15\n",
      "16\n",
      "17\n",
      "18\n",
      "19\n",
      "20\n",
      "21\n",
      "22\n",
      "23\n",
      "24\n",
      "25\n",
      "26\n",
      "27\n",
      "28\n",
      "29\n",
      "30\n",
      "31\n",
      "32\n",
      "33\n",
      "34\n"
     ]
    }
   ],
   "source": [
    "data_list = []\n",
    "data=main_function(base_url, endpoint, 1)\n",
    "for x in range(1, get_pages(data)+1):\n",
    "    print(x)\n",
    "    data_list.extend(parse_json(main_function(base_url, endpoint, x)))"
   ]
  },
  {
   "cell_type": "code",
   "execution_count": 28,
   "metadata": {},
   "outputs": [],
   "source": [
    "# Creating table and saving it in a csv file\n",
    "df = pd.DataFrame(data_list)\n",
    "df.to_csv('Rick&Morty.csv', index=False)"
   ]
  }
 ],
 "metadata": {
  "kernelspec": {
   "display_name": "Python 3",
   "language": "python",
   "name": "python3"
  },
  "language_info": {
   "codemirror_mode": {
    "name": "ipython",
    "version": 3
   },
   "file_extension": ".py",
   "mimetype": "text/x-python",
   "name": "python",
   "nbconvert_exporter": "python",
   "pygments_lexer": "ipython3",
   "version": "3.8.5"
  }
 },
 "nbformat": 4,
 "nbformat_minor": 4
}
